{
 "cells": [
  {
   "cell_type": "code",
   "execution_count": 15,
   "metadata": {
    "colab": {
     "base_uri": "https://localhost:8080/",
     "height": 34
    },
    "colab_type": "code",
    "id": "cJ4kOA1RoQtZ",
    "outputId": "3bc0fab1-ba77-4f9f-8e8e-a46a176aa5b7"
   },
   "outputs": [],
   "source": [
    "import numpy as np\n",
    "import pandas as pd\n",
    "from keras.models import Sequential\n",
    "from keras.layers import Dense, Flatten, Dropout, Input, concatenate, GRU, CuDNNGRU\n",
    "from keras.layers.embeddings import Embedding\n",
    "from keras.models import Model\n",
    "from keras.preprocessing import sequence\n",
    "from keras.preprocessing.text import Tokenizer\n",
    "from sklearn.model_selection import StratifiedKFold, train_test_split\n",
    "from sklearn.metrics import f1_score"
   ]
  },
  {
   "cell_type": "code",
   "execution_count": 2,
   "metadata": {
    "colab": {},
    "colab_type": "code",
    "id": "QBRDxiBOua6f"
   },
   "outputs": [],
   "source": [
    "from keras.callbacks import EarlyStopping, ModelCheckpoint, ReduceLROnPlateau\n",
    "import tensorflow as tf"
   ]
  },
  {
   "cell_type": "markdown",
   "metadata": {
    "colab_type": "text",
    "id": "vvIGw4Gur-NG"
   },
   "source": [
    "**Node** **information**"
   ]
  },
  {
   "cell_type": "code",
   "execution_count": 3,
   "metadata": {
    "colab": {},
    "colab_type": "code",
    "id": "zrz3sfyJpbj5"
   },
   "outputs": [],
   "source": [
    "columes = [\"id\", \"year\", \"title\", \"authors\", \"journal\", \"abstract\"]"
   ]
  },
  {
   "cell_type": "code",
   "execution_count": 4,
   "metadata": {
    "colab": {},
    "colab_type": "code",
    "id": "tVMatx55sMvy"
   },
   "outputs": [],
   "source": [
    "df= pd.read_csv(\"dataset/node_information.csv\",names=columes )"
   ]
  },
  {
   "cell_type": "markdown",
   "metadata": {
    "colab_type": "text",
    "id": "xcuQE02jsfbs"
   },
   "source": [
    "**Train** **set**"
   ]
  },
  {
   "cell_type": "code",
   "execution_count": 5,
   "metadata": {
    "colab": {},
    "colab_type": "code",
    "id": "RkHWe5HysdrV"
   },
   "outputs": [],
   "source": [
    "data_set = np.loadtxt(\"dataset/training_set.txt\").astype(np.int64)"
   ]
  },
  {
   "cell_type": "code",
   "execution_count": 6,
   "metadata": {
    "colab": {},
    "colab_type": "code",
    "id": "wA53gL6ssoVw"
   },
   "outputs": [],
   "source": [
    "data = data_set[:, :2]\n",
    "label = data_set[:, -1]\n",
    "data_dic = {}\n",
    "\n",
    "for index, row in df.iterrows():\n",
    "    data_dic[row['id']] = (row['year'], row['title'], row['authors'], row['journal'], row['abstract'])\n",
    "    \n",
    "clean_title = pd.read_pickle('clean_title.pkl')['text'].values.tolist()\n",
    "clean_abstract = pd.read_pickle('clean_abstract.pkl')['text'].values.tolist()\n",
    "df['title'] = clean_title\n",
    "df['abstract'] = clean_abstract"
   ]
  },
  {
   "cell_type": "markdown",
   "metadata": {
    "colab_type": "text",
    "id": "2y6XTBiHsu3Q"
   },
   "source": [
    "**K**-**fold** **split**"
   ]
  },
  {
   "cell_type": "code",
   "execution_count": 7,
   "metadata": {
    "colab": {
     "base_uri": "https://localhost:8080/",
     "height": 102
    },
    "colab_type": "code",
    "id": "qx3UpO8fsso3",
    "outputId": "d8f8f7a0-8d1e-4efc-fcca-815e3f216c48"
   },
   "outputs": [
    {
     "name": "stdout",
     "output_type": "stream",
     "text": [
      "(410341,) (205171,)\n",
      "(410341,) (205171,)\n",
      "(410342,) (205170,)\n"
     ]
    },
    {
     "data": {
      "text/plain": [
       "\"\\nsplit_train_data, split_test_data, split_train_label, split_test_label = train_test_split(data, label, test_size=0.2, random_state=7)\\ntrain_df = pd.DataFrame()\\ntest_df = pd.DataFrame()\\ntrain_df['doc1'] = split_train_data[:,0]\\ntrain_df['doc2'] = split_train_data[:,1]\\ntrain_df['label'] = split_train_label\\ntest_df['doc1'] = split_test_data[:,0]\\ntest_df['doc2'] = split_test_data[:,1]\\ntest_df['label'] = split_test_label\\ntrain_df.to_pickle('train_df.pkl')\\ntest_df.to_pickle('test_df.pkl')\\nprint(split_train_data.shape, split_test_data.shape, split_train_label.shape, split_test_label.shape) \\n\""
      ]
     },
     "execution_count": 7,
     "metadata": {},
     "output_type": "execute_result"
    }
   ],
   "source": [
    "train_all = []\n",
    "evaluate_all = []\n",
    "\n",
    "k = 3\n",
    "fold_num = 1\n",
    "\n",
    "skf = StratifiedKFold(n_splits=k, random_state=1234, shuffle=True)\n",
    "for train_index, evaluate_index in skf.split(data, label):\n",
    "    train_all.append(train_index)\n",
    "    evaluate_all.append(evaluate_index)\n",
    "    print(train_index.shape,evaluate_index.shape)\n",
    "train_df = pd.DataFrame()\n",
    "train_df['index'] = train_all[0]\n",
    "evaluate_df = pd.DataFrame()\n",
    "evaluate_df['index'] = evaluate_all[0]\n",
    "train_df.to_pickle('train_df.pkl')\n",
    "evaluate_df.to_pickle('test_df.pkl')"
   ]
  },
  {
   "cell_type": "code",
   "execution_count": 8,
   "metadata": {
    "colab": {},
    "colab_type": "code",
    "id": "mEqMlTbBs19E"
   },
   "outputs": [],
   "source": [
    "def get_data(fold_index, max_sentence_len):\n",
    "    tokenizer = Tokenizer(num_words=7000)  \n",
    "    texts = [df[\"title\"].values.tolist()[i]+ ' ' +df[\"abstract\"].values.tolist()[i] for i in range(df.shape[0])]\n",
    "    tokenizer.fit_on_texts(texts)\n",
    "\n",
    "    word_index = tokenizer.word_index\n",
    "    \n",
    "    embedding_matrix = np.zeros((len(word_index) + 1, 100))\n",
    "    for word, i in word_index.items():\n",
    "        embedding_vector = embeddings_index.get(word)\n",
    "        if embedding_vector is not None:\n",
    "            # words not found in embedding index will be all-zeros.\n",
    "            embedding_matrix[i] = embedding_vector\n",
    "            \n",
    "    train_index = train_all[fold_index - 1]\n",
    "    evaluate_index = evaluate_all[fold_index - 1]\n",
    "    \n",
    "    # group train data\n",
    "    train_label = label[train_index]\n",
    "    \n",
    "    train_input = data[train_index]\n",
    "    paper_id1 = train_input[:, 0]\n",
    "    paper_id2 = train_input[:, 1]\n",
    "    train_input1 = [data_dic[id][1] + ' ' + data_dic[id][4] for id in  paper_id1]\n",
    "    train_input2 = [data_dic[id][1] + ' ' + data_dic[id][4] for id in  paper_id2]\n",
    "    # convert texts to numbers\n",
    "    x_train_seq1 = tokenizer.texts_to_sequences(train_input1)\n",
    "    x_train_seq2 = tokenizer.texts_to_sequences(train_input2)\n",
    "\n",
    "    x_train1 = sequence.pad_sequences(x_train_seq1, maxlen=max_sentence_len)\n",
    "    x_train2 = sequence.pad_sequences(x_train_seq2, maxlen=max_sentence_len)\n",
    "    \n",
    "    # group evaluate data\n",
    "    eval_label = label[evaluate_index]\n",
    "    \n",
    "    eval_input = data[evaluate_index]\n",
    "    paper_id1_ = eval_input[:, 0]\n",
    "    paper_id2_ = eval_input[:, 1]\n",
    "    eval_input1 = [data_dic[id][1] + ' ' + data_dic[id][4] for id in  paper_id1_]\n",
    "    eval_input2 = [data_dic[id][1] + ' ' + data_dic[id][4] for id in  paper_id2_]\n",
    "    # convert texts to numbers\n",
    "    x_eval_seq1 = tokenizer.texts_to_sequences(eval_input1)\n",
    "    x_eval_seq2 = tokenizer.texts_to_sequences(eval_input2)\n",
    "\n",
    "    x_eval1 = sequence.pad_sequences(x_eval_seq1, maxlen=max_sentence_len)\n",
    "    x_eval2 = sequence.pad_sequences(x_eval_seq2, maxlen=max_sentence_len)\n",
    "    \n",
    "\n",
    "    return x_train1, x_train2, train_label, x_eval1, x_eval2, eval_label, embedding_matrix\n"
   ]
  },
  {
   "cell_type": "markdown",
   "metadata": {
    "colab_type": "text",
    "id": "2I4XaCj8s7-L"
   },
   "source": [
    "**Create Model**"
   ]
  },
  {
   "cell_type": "code",
   "execution_count": 9,
   "metadata": {
    "colab": {},
    "colab_type": "code",
    "id": "hIhlo_Shs5xQ"
   },
   "outputs": [],
   "source": [
    "def create_model(maxlen=150, max_features=7000, embed_size=100):\n",
    "    # Inputs\n",
    "    input1 = Input(shape=[maxlen], name='x_seq1')\n",
    "    input2 = Input(shape=[maxlen], name='x_seq2')\n",
    "\n",
    "    # Embeddings layers\n",
    "    shared_embedding_layer = Embedding(embedding_matrix.shape[0], embedding_matrix.shape[1], weights=[embedding_matrix], trainable=True)\n",
    "    \n",
    "    # two inputs share embedding layer\n",
    "    encoded1 = shared_embedding_layer(input1)\n",
    "    encoded2 = shared_embedding_layer(input2)\n",
    "\n",
    "    # rnn layers\n",
    "    gru = Bidirectional(CuDNNGRU(units=100))\n",
    "    gru1 = gru(encoded1)\n",
    "    gru2 = gru(encoded2)\n",
    "    \n",
    "    # merge two branches\n",
    "    merge = concatenate([gru1, gru2], axis=-1)\n",
    "\n",
    "    # out = Dropout(0.5)(merge)\n",
    "    hidden1 = Dense(64, activation='relu')(merge)\n",
    "    hidden2 = Dense(32, activation='relu')(hidden1)\n",
    "\n",
    "    output = Dense(units=1, activation='sigmoid')(hidden2)\n",
    "    model = Model(inputs=[input1, input2], outputs=output)\n",
    "\n",
    "    return model"
   ]
  },
  {
   "cell_type": "markdown",
   "metadata": {},
   "source": [
    "# Pretrained embedding"
   ]
  },
  {
   "cell_type": "code",
   "execution_count": 10,
   "metadata": {},
   "outputs": [
    {
     "name": "stdout",
     "output_type": "stream",
     "text": [
      "Found 400000 word vectors.\n"
     ]
    }
   ],
   "source": [
    "embeddings_index = {}\n",
    "f = open('glove.6B.100d.txt')\n",
    "for line in f:\n",
    "    values = line.split()\n",
    "    word = values[0]\n",
    "    coefs = np.asarray(values[1:], dtype='float32')\n",
    "    embeddings_index[word] = coefs\n",
    "f.close()\n",
    "\n",
    "print('Found %s word vectors.' % len(embeddings_index))"
   ]
  },
  {
   "cell_type": "markdown",
   "metadata": {
    "colab_type": "text",
    "id": "gDAU8TSjtF1d"
   },
   "source": [
    "**Training**"
   ]
  },
  {
   "cell_type": "code",
   "execution_count": 11,
   "metadata": {
    "colab": {},
    "colab_type": "code",
    "id": "MEfQ3rIZtDAP"
   },
   "outputs": [],
   "source": [
    "x_train1, x_train2, train_label, x_eval1, x_eval2, eval_label, embedding_matrix = get_data(fold_num, 150)"
   ]
  },
  {
   "cell_type": "code",
   "execution_count": 12,
   "metadata": {
    "colab": {},
    "colab_type": "code",
    "id": "n5jeqJ02yXf5"
   },
   "outputs": [],
   "source": [
    "def plot_history(history,metric_name):\n",
    "    fig, (ax_loss, ax_score) = plt.subplots(1, 2, figsize=(15,5))\n",
    "    ax_loss.plot(history.epoch, history.history[\"loss\"], label=\"Train loss\")\n",
    "    ax_loss.plot(history.epoch, history.history[\"val_loss\"], label=\"Validation loss\")\n",
    "    ax_loss.legend()\n",
    "    ax_score.plot(history.epoch, history.history[metric_name], label=\"Train score\")\n",
    "    ax_score.plot(history.epoch, history.history[\"val_\" + metric_name], label=\"Validation score\")\n",
    "    ax_score.legend()\n"
   ]
  },
  {
   "cell_type": "code",
   "execution_count": 13,
   "metadata": {
    "colab": {},
    "colab_type": "code",
    "id": "Gc1QUVyuwPRP"
   },
   "outputs": [],
   "source": [
    "def f1(label, pred):\n",
    "    return tf.py_func(f1_score, [label, (pred>0.5)], tf.float64)"
   ]
  },
  {
   "cell_type": "code",
   "execution_count": 16,
   "metadata": {
    "colab": {},
    "colab_type": "code",
    "id": "-uxaGecrtL_Z"
   },
   "outputs": [],
   "source": [
    "model = create_model()\n",
    "model.compile(loss=\"binary_crossentropy\", optimizer=\"adam\", metrics=['accuracy'])"
   ]
  },
  {
   "cell_type": "code",
   "execution_count": 17,
   "metadata": {
    "colab": {
     "base_uri": "https://localhost:8080/",
     "height": 1905
    },
    "colab_type": "code",
    "id": "oWV4XQF5tWqM",
    "outputId": "e4e90e04-ccee-4c21-c24e-6ab6346c3ef6",
    "scrolled": true
   },
   "outputs": [
    {
     "name": "stdout",
     "output_type": "stream",
     "text": [
      "Train on 410341 samples, validate on 205171 samples\n",
      "Epoch 1/50\n",
      "Epoch 00001: val_acc improved from -inf to 0.86681, saving model to model_stack_2.ckpt\n",
      " - 411s - loss: 0.4145 - acc: 0.8041 - val_loss: 0.3154 - val_acc: 0.8668\n",
      "Epoch 2/50\n",
      "Epoch 00002: val_acc improved from 0.86681 to 0.89946, saving model to model_stack_2.ckpt\n",
      " - 411s - loss: 0.2648 - acc: 0.8923 - val_loss: 0.2506 - val_acc: 0.8995\n",
      "Epoch 3/50\n",
      "Epoch 00003: val_acc improved from 0.89946 to 0.91014, saving model to model_stack_2.ckpt\n",
      " - 412s - loss: 0.2035 - acc: 0.9219 - val_loss: 0.2310 - val_acc: 0.9101\n",
      "Epoch 4/50\n",
      "Epoch 00004: val_acc improved from 0.91014 to 0.91677, saving model to model_stack_2.ckpt\n",
      " - 412s - loss: 0.1663 - acc: 0.9381 - val_loss: 0.2216 - val_acc: 0.9168\n",
      "Epoch 5/50\n",
      "Epoch 00005: val_acc improved from 0.91677 to 0.91940, saving model to model_stack_2.ckpt\n",
      " - 412s - loss: 0.1392 - acc: 0.9491 - val_loss: 0.2160 - val_acc: 0.9194\n",
      "Epoch 6/50\n",
      "Epoch 00006: val_acc improved from 0.91940 to 0.91956, saving model to model_stack_2.ckpt\n",
      " - 412s - loss: 0.1185 - acc: 0.9571 - val_loss: 0.2277 - val_acc: 0.9196\n",
      "Epoch 7/50\n",
      "Epoch 00007: val_acc improved from 0.91956 to 0.92111, saving model to model_stack_2.ckpt\n",
      " - 412s - loss: 0.1024 - acc: 0.9634 - val_loss: 0.2275 - val_acc: 0.9211\n",
      "Epoch 8/50\n",
      "Epoch 00008: val_acc improved from 0.92111 to 0.92142, saving model to model_stack_2.ckpt\n",
      " - 412s - loss: 0.0890 - acc: 0.9680 - val_loss: 0.2408 - val_acc: 0.9214\n",
      "Epoch 9/50\n"
     ]
    },
    {
     "ename": "KeyboardInterrupt",
     "evalue": "",
     "output_type": "error",
     "traceback": [
      "\u001b[0;31m---------------------------------------------------------------------------\u001b[0m",
      "\u001b[0;31mKeyboardInterrupt\u001b[0m                         Traceback (most recent call last)",
      "\u001b[0;32m<ipython-input-17-ecd98cb69c6b>\u001b[0m in \u001b[0;36m<module>\u001b[0;34m\u001b[0m\n\u001b[1;32m     15\u001b[0m           \u001b[0mcallbacks\u001b[0m\u001b[0;34m=\u001b[0m\u001b[0;34m[\u001b[0m \u001b[0mmodel_checkpoint\u001b[0m\u001b[0;34m,\u001b[0m\u001b[0mreduce_lr\u001b[0m\u001b[0;34m]\u001b[0m\u001b[0;34m,\u001b[0m\u001b[0;34m\u001b[0m\u001b[0;34m\u001b[0m\u001b[0m\n\u001b[1;32m     16\u001b[0m           \u001b[0mverbose\u001b[0m\u001b[0;34m=\u001b[0m\u001b[0;36m2\u001b[0m\u001b[0;34m,\u001b[0m\u001b[0;34m\u001b[0m\u001b[0;34m\u001b[0m\u001b[0m\n\u001b[0;32m---> 17\u001b[0;31m           shuffle=True)\n\u001b[0m\u001b[1;32m     18\u001b[0m \u001b[0;34m\u001b[0m\u001b[0m\n\u001b[1;32m     19\u001b[0m \u001b[0mplot_history\u001b[0m\u001b[0;34m(\u001b[0m\u001b[0mhistory\u001b[0m\u001b[0;34m,\u001b[0m\u001b[0;34m'accuracy'\u001b[0m\u001b[0;34m)\u001b[0m\u001b[0;34m\u001b[0m\u001b[0;34m\u001b[0m\u001b[0m\n",
      "\u001b[0;32m~/environments/my_env/lib/python3.6/site-packages/keras/engine/training.py\u001b[0m in \u001b[0;36mfit\u001b[0;34m(self, x, y, batch_size, epochs, verbose, callbacks, validation_split, validation_data, shuffle, class_weight, sample_weight, initial_epoch, steps_per_epoch, validation_steps, **kwargs)\u001b[0m\n\u001b[1;32m   1646\u001b[0m                               \u001b[0minitial_epoch\u001b[0m\u001b[0;34m=\u001b[0m\u001b[0minitial_epoch\u001b[0m\u001b[0;34m,\u001b[0m\u001b[0;34m\u001b[0m\u001b[0;34m\u001b[0m\u001b[0m\n\u001b[1;32m   1647\u001b[0m                               \u001b[0msteps_per_epoch\u001b[0m\u001b[0;34m=\u001b[0m\u001b[0msteps_per_epoch\u001b[0m\u001b[0;34m,\u001b[0m\u001b[0;34m\u001b[0m\u001b[0;34m\u001b[0m\u001b[0m\n\u001b[0;32m-> 1648\u001b[0;31m                               validation_steps=validation_steps)\n\u001b[0m\u001b[1;32m   1649\u001b[0m \u001b[0;34m\u001b[0m\u001b[0m\n\u001b[1;32m   1650\u001b[0m     def evaluate(self, x=None, y=None,\n",
      "\u001b[0;32m~/environments/my_env/lib/python3.6/site-packages/keras/engine/training.py\u001b[0m in \u001b[0;36m_fit_loop\u001b[0;34m(self, f, ins, out_labels, batch_size, epochs, verbose, callbacks, val_f, val_ins, shuffle, callback_metrics, initial_epoch, steps_per_epoch, validation_steps)\u001b[0m\n\u001b[1;32m   1211\u001b[0m                     \u001b[0mbatch_logs\u001b[0m\u001b[0;34m[\u001b[0m\u001b[0;34m'size'\u001b[0m\u001b[0;34m]\u001b[0m \u001b[0;34m=\u001b[0m \u001b[0mlen\u001b[0m\u001b[0;34m(\u001b[0m\u001b[0mbatch_ids\u001b[0m\u001b[0;34m)\u001b[0m\u001b[0;34m\u001b[0m\u001b[0;34m\u001b[0m\u001b[0m\n\u001b[1;32m   1212\u001b[0m                     \u001b[0mcallbacks\u001b[0m\u001b[0;34m.\u001b[0m\u001b[0mon_batch_begin\u001b[0m\u001b[0;34m(\u001b[0m\u001b[0mbatch_index\u001b[0m\u001b[0;34m,\u001b[0m \u001b[0mbatch_logs\u001b[0m\u001b[0;34m)\u001b[0m\u001b[0;34m\u001b[0m\u001b[0;34m\u001b[0m\u001b[0m\n\u001b[0;32m-> 1213\u001b[0;31m                     \u001b[0mouts\u001b[0m \u001b[0;34m=\u001b[0m \u001b[0mf\u001b[0m\u001b[0;34m(\u001b[0m\u001b[0mins_batch\u001b[0m\u001b[0;34m)\u001b[0m\u001b[0;34m\u001b[0m\u001b[0;34m\u001b[0m\u001b[0m\n\u001b[0m\u001b[1;32m   1214\u001b[0m                     \u001b[0;32mif\u001b[0m \u001b[0;32mnot\u001b[0m \u001b[0misinstance\u001b[0m\u001b[0;34m(\u001b[0m\u001b[0mouts\u001b[0m\u001b[0;34m,\u001b[0m \u001b[0mlist\u001b[0m\u001b[0;34m)\u001b[0m\u001b[0;34m:\u001b[0m\u001b[0;34m\u001b[0m\u001b[0;34m\u001b[0m\u001b[0m\n\u001b[1;32m   1215\u001b[0m                         \u001b[0mouts\u001b[0m \u001b[0;34m=\u001b[0m \u001b[0;34m[\u001b[0m\u001b[0mouts\u001b[0m\u001b[0;34m]\u001b[0m\u001b[0;34m\u001b[0m\u001b[0;34m\u001b[0m\u001b[0m\n",
      "\u001b[0;32m~/environments/my_env/lib/python3.6/site-packages/keras/backend/tensorflow_backend.py\u001b[0m in \u001b[0;36m__call__\u001b[0;34m(self, inputs)\u001b[0m\n\u001b[1;32m   2350\u001b[0m         \u001b[0msession\u001b[0m \u001b[0;34m=\u001b[0m \u001b[0mget_session\u001b[0m\u001b[0;34m(\u001b[0m\u001b[0;34m)\u001b[0m\u001b[0;34m\u001b[0m\u001b[0;34m\u001b[0m\u001b[0m\n\u001b[1;32m   2351\u001b[0m         updated = session.run(fetches=fetches, feed_dict=feed_dict,\n\u001b[0;32m-> 2352\u001b[0;31m                               **self.session_kwargs)\n\u001b[0m\u001b[1;32m   2353\u001b[0m         \u001b[0;32mreturn\u001b[0m \u001b[0mupdated\u001b[0m\u001b[0;34m[\u001b[0m\u001b[0;34m:\u001b[0m\u001b[0mlen\u001b[0m\u001b[0;34m(\u001b[0m\u001b[0mself\u001b[0m\u001b[0;34m.\u001b[0m\u001b[0moutputs\u001b[0m\u001b[0;34m)\u001b[0m\u001b[0;34m]\u001b[0m\u001b[0;34m\u001b[0m\u001b[0;34m\u001b[0m\u001b[0m\n\u001b[1;32m   2354\u001b[0m \u001b[0;34m\u001b[0m\u001b[0m\n",
      "\u001b[0;32m~/environments/my_env/lib/python3.6/site-packages/tensorflow/python/client/session.py\u001b[0m in \u001b[0;36mrun\u001b[0;34m(self, fetches, feed_dict, options, run_metadata)\u001b[0m\n\u001b[1;32m    887\u001b[0m     \u001b[0;32mtry\u001b[0m\u001b[0;34m:\u001b[0m\u001b[0;34m\u001b[0m\u001b[0;34m\u001b[0m\u001b[0m\n\u001b[1;32m    888\u001b[0m       result = self._run(None, fetches, feed_dict, options_ptr,\n\u001b[0;32m--> 889\u001b[0;31m                          run_metadata_ptr)\n\u001b[0m\u001b[1;32m    890\u001b[0m       \u001b[0;32mif\u001b[0m \u001b[0mrun_metadata\u001b[0m\u001b[0;34m:\u001b[0m\u001b[0;34m\u001b[0m\u001b[0;34m\u001b[0m\u001b[0m\n\u001b[1;32m    891\u001b[0m         \u001b[0mproto_data\u001b[0m \u001b[0;34m=\u001b[0m \u001b[0mtf_session\u001b[0m\u001b[0;34m.\u001b[0m\u001b[0mTF_GetBuffer\u001b[0m\u001b[0;34m(\u001b[0m\u001b[0mrun_metadata_ptr\u001b[0m\u001b[0;34m)\u001b[0m\u001b[0;34m\u001b[0m\u001b[0;34m\u001b[0m\u001b[0m\n",
      "\u001b[0;32m~/environments/my_env/lib/python3.6/site-packages/tensorflow/python/client/session.py\u001b[0m in \u001b[0;36m_run\u001b[0;34m(self, handle, fetches, feed_dict, options, run_metadata)\u001b[0m\n\u001b[1;32m   1118\u001b[0m     \u001b[0;32mif\u001b[0m \u001b[0mfinal_fetches\u001b[0m \u001b[0;32mor\u001b[0m \u001b[0mfinal_targets\u001b[0m \u001b[0;32mor\u001b[0m \u001b[0;34m(\u001b[0m\u001b[0mhandle\u001b[0m \u001b[0;32mand\u001b[0m \u001b[0mfeed_dict_tensor\u001b[0m\u001b[0;34m)\u001b[0m\u001b[0;34m:\u001b[0m\u001b[0;34m\u001b[0m\u001b[0;34m\u001b[0m\u001b[0m\n\u001b[1;32m   1119\u001b[0m       results = self._do_run(handle, final_targets, final_fetches,\n\u001b[0;32m-> 1120\u001b[0;31m                              feed_dict_tensor, options, run_metadata)\n\u001b[0m\u001b[1;32m   1121\u001b[0m     \u001b[0;32melse\u001b[0m\u001b[0;34m:\u001b[0m\u001b[0;34m\u001b[0m\u001b[0;34m\u001b[0m\u001b[0m\n\u001b[1;32m   1122\u001b[0m       \u001b[0mresults\u001b[0m \u001b[0;34m=\u001b[0m \u001b[0;34m[\u001b[0m\u001b[0;34m]\u001b[0m\u001b[0;34m\u001b[0m\u001b[0;34m\u001b[0m\u001b[0m\n",
      "\u001b[0;32m~/environments/my_env/lib/python3.6/site-packages/tensorflow/python/client/session.py\u001b[0m in \u001b[0;36m_do_run\u001b[0;34m(self, handle, target_list, fetch_list, feed_dict, options, run_metadata)\u001b[0m\n\u001b[1;32m   1315\u001b[0m     \u001b[0;32mif\u001b[0m \u001b[0mhandle\u001b[0m \u001b[0;32mis\u001b[0m \u001b[0;32mNone\u001b[0m\u001b[0;34m:\u001b[0m\u001b[0;34m\u001b[0m\u001b[0;34m\u001b[0m\u001b[0m\n\u001b[1;32m   1316\u001b[0m       return self._do_call(_run_fn, self._session, feeds, fetches, targets,\n\u001b[0;32m-> 1317\u001b[0;31m                            options, run_metadata)\n\u001b[0m\u001b[1;32m   1318\u001b[0m     \u001b[0;32melse\u001b[0m\u001b[0;34m:\u001b[0m\u001b[0;34m\u001b[0m\u001b[0;34m\u001b[0m\u001b[0m\n\u001b[1;32m   1319\u001b[0m       \u001b[0;32mreturn\u001b[0m \u001b[0mself\u001b[0m\u001b[0;34m.\u001b[0m\u001b[0m_do_call\u001b[0m\u001b[0;34m(\u001b[0m\u001b[0m_prun_fn\u001b[0m\u001b[0;34m,\u001b[0m \u001b[0mself\u001b[0m\u001b[0;34m.\u001b[0m\u001b[0m_session\u001b[0m\u001b[0;34m,\u001b[0m \u001b[0mhandle\u001b[0m\u001b[0;34m,\u001b[0m \u001b[0mfeeds\u001b[0m\u001b[0;34m,\u001b[0m \u001b[0mfetches\u001b[0m\u001b[0;34m)\u001b[0m\u001b[0;34m\u001b[0m\u001b[0;34m\u001b[0m\u001b[0m\n",
      "\u001b[0;32m~/environments/my_env/lib/python3.6/site-packages/tensorflow/python/client/session.py\u001b[0m in \u001b[0;36m_do_call\u001b[0;34m(self, fn, *args)\u001b[0m\n\u001b[1;32m   1321\u001b[0m   \u001b[0;32mdef\u001b[0m \u001b[0m_do_call\u001b[0m\u001b[0;34m(\u001b[0m\u001b[0mself\u001b[0m\u001b[0;34m,\u001b[0m \u001b[0mfn\u001b[0m\u001b[0;34m,\u001b[0m \u001b[0;34m*\u001b[0m\u001b[0margs\u001b[0m\u001b[0;34m)\u001b[0m\u001b[0;34m:\u001b[0m\u001b[0;34m\u001b[0m\u001b[0;34m\u001b[0m\u001b[0m\n\u001b[1;32m   1322\u001b[0m     \u001b[0;32mtry\u001b[0m\u001b[0;34m:\u001b[0m\u001b[0;34m\u001b[0m\u001b[0;34m\u001b[0m\u001b[0m\n\u001b[0;32m-> 1323\u001b[0;31m       \u001b[0;32mreturn\u001b[0m \u001b[0mfn\u001b[0m\u001b[0;34m(\u001b[0m\u001b[0;34m*\u001b[0m\u001b[0margs\u001b[0m\u001b[0;34m)\u001b[0m\u001b[0;34m\u001b[0m\u001b[0;34m\u001b[0m\u001b[0m\n\u001b[0m\u001b[1;32m   1324\u001b[0m     \u001b[0;32mexcept\u001b[0m \u001b[0merrors\u001b[0m\u001b[0;34m.\u001b[0m\u001b[0mOpError\u001b[0m \u001b[0;32mas\u001b[0m \u001b[0me\u001b[0m\u001b[0;34m:\u001b[0m\u001b[0;34m\u001b[0m\u001b[0;34m\u001b[0m\u001b[0m\n\u001b[1;32m   1325\u001b[0m       \u001b[0mmessage\u001b[0m \u001b[0;34m=\u001b[0m \u001b[0mcompat\u001b[0m\u001b[0;34m.\u001b[0m\u001b[0mas_text\u001b[0m\u001b[0;34m(\u001b[0m\u001b[0me\u001b[0m\u001b[0;34m.\u001b[0m\u001b[0mmessage\u001b[0m\u001b[0;34m)\u001b[0m\u001b[0;34m\u001b[0m\u001b[0;34m\u001b[0m\u001b[0m\n",
      "\u001b[0;32m~/environments/my_env/lib/python3.6/site-packages/tensorflow/python/client/session.py\u001b[0m in \u001b[0;36m_run_fn\u001b[0;34m(session, feed_dict, fetch_list, target_list, options, run_metadata)\u001b[0m\n\u001b[1;32m   1300\u001b[0m           return tf_session.TF_Run(session, options,\n\u001b[1;32m   1301\u001b[0m                                    \u001b[0mfeed_dict\u001b[0m\u001b[0;34m,\u001b[0m \u001b[0mfetch_list\u001b[0m\u001b[0;34m,\u001b[0m \u001b[0mtarget_list\u001b[0m\u001b[0;34m,\u001b[0m\u001b[0;34m\u001b[0m\u001b[0;34m\u001b[0m\u001b[0m\n\u001b[0;32m-> 1302\u001b[0;31m                                    status, run_metadata)\n\u001b[0m\u001b[1;32m   1303\u001b[0m \u001b[0;34m\u001b[0m\u001b[0m\n\u001b[1;32m   1304\u001b[0m     \u001b[0;32mdef\u001b[0m \u001b[0m_prun_fn\u001b[0m\u001b[0;34m(\u001b[0m\u001b[0msession\u001b[0m\u001b[0;34m,\u001b[0m \u001b[0mhandle\u001b[0m\u001b[0;34m,\u001b[0m \u001b[0mfeed_dict\u001b[0m\u001b[0;34m,\u001b[0m \u001b[0mfetch_list\u001b[0m\u001b[0;34m)\u001b[0m\u001b[0;34m:\u001b[0m\u001b[0;34m\u001b[0m\u001b[0;34m\u001b[0m\u001b[0m\n",
      "\u001b[0;31mKeyboardInterrupt\u001b[0m: "
     ]
    }
   ],
   "source": [
    "save_model_name = 'model_stack_'+str(fold_num)+'.ckpt'\n",
    "\n",
    "model_checkpoint = ModelCheckpoint(save_model_name, monitor='val_acc', \n",
    "                               mode='max', save_best_only=True, verbose=1)\n",
    "reduce_lr = ReduceLROnPlateau(monitor='val_acc', mode='max',\n",
    "                              factor=0.5, patience=10, min_lr=0.0000001, verbose=1)\n",
    "\n",
    "batch_size = 64\n",
    "epochs = 50\n",
    "history = model.fit(x=[x_train1, x_train2],\n",
    "          y=train_label,\n",
    "          validation_data=[[x_eval1, x_eval2], eval_label],\n",
    "          batch_size=batch_size,\n",
    "          epochs=epochs,\n",
    "          callbacks=[ model_checkpoint,reduce_lr],\n",
    "          verbose=2,\n",
    "          shuffle=True)\n",
    "\n",
    "plot_history(history,'accuracy')"
   ]
  },
  {
   "cell_type": "code",
   "execution_count": null,
   "metadata": {
    "colab": {
     "base_uri": "https://localhost:8080/",
     "height": 34
    },
    "colab_type": "code",
    "id": "cFAysAiGyiZr",
    "outputId": "dd950051-ba80-4c07-d8c6-f8f182900932"
   },
   "outputs": [],
   "source": [
    "scores = model.evaluate([x_eval1[:1000], x_eval2[:1000]], eval_label[:1000])"
   ]
  },
  {
   "cell_type": "code",
   "execution_count": null,
   "metadata": {
    "colab": {
     "base_uri": "https://localhost:8080/",
     "height": 34
    },
    "colab_type": "code",
    "id": "jW7yx_7xVAyG",
    "outputId": "11227fee-21aa-4d62-e557-41b7809361fa"
   },
   "outputs": [],
   "source": [
    "print('test_loss: %f, accuracy: %f' % (scores[0], scores[1]))"
   ]
  },
  {
   "cell_type": "code",
   "execution_count": null,
   "metadata": {
    "colab": {
     "base_uri": "https://localhost:8080/",
     "height": 34
    },
    "colab_type": "code",
    "id": "DkoTViQsVDzb",
    "outputId": "55cd702f-e775-4fea-c561-bb6ca8aabf0f"
   },
   "outputs": [],
   "source": [
    "pred = model.predict(x=[x_eval1, x_eval2])\n",
    "f1 = f1_score(eval_label, (pred>0.5).astype(np.int8))\n",
    "print(f1)                    \n",
    "                      "
   ]
  },
  {
   "cell_type": "markdown",
   "metadata": {
    "colab_type": "text",
    "id": "IuJsY3ADbfI5"
   },
   "source": [
    "**load test data and create submission file**"
   ]
  },
  {
   "cell_type": "code",
   "execution_count": 99,
   "metadata": {
    "colab": {},
    "colab_type": "code",
    "id": "8ydGXUWSVwOn"
   },
   "outputs": [],
   "source": [
    "test_set = np.loadtxt(\"dataset/testing_set.txt\").astype(np.int64)"
   ]
  },
  {
   "cell_type": "code",
   "execution_count": 100,
   "metadata": {
    "colab": {},
    "colab_type": "code",
    "id": "ntJrU1Kubh1F"
   },
   "outputs": [],
   "source": [
    "tokenizer = Tokenizer(num_words=7000)  \n",
    "texts = [df[\"title\"].values.tolist()[i]+ ' ' +df[\"abstract\"].values.tolist()[i] for i in range(df.shape[0])]\n",
    "tokenizer.fit_on_texts(texts)"
   ]
  },
  {
   "cell_type": "code",
   "execution_count": 101,
   "metadata": {
    "colab": {},
    "colab_type": "code",
    "id": "PnqGKGgQb_UP"
   },
   "outputs": [],
   "source": [
    "test_paper_id1 = test_set[:, 0]\n",
    "test_paper_id2 = test_set[:, 1]\n",
    "test_input1 = [data_dic[id][1] + ' ' + data_dic[id][4] for id in  test_paper_id1]\n",
    "test_input2 = [data_dic[id][1] + ' ' + data_dic[id][4] for id in  test_paper_id2]\n",
    "# convert texts to numbers\n",
    "x_test_seq1 = tokenizer.texts_to_sequences(test_input1)\n",
    "x_test_seq2 = tokenizer.texts_to_sequences(test_input2)\n",
    "\n",
    "x_test1 = sequence.pad_sequences(x_test_seq1, maxlen=150)\n",
    "x_test2 = sequence.pad_sequences(x_test_seq2, maxlen=150)"
   ]
  },
  {
   "cell_type": "code",
   "execution_count": 102,
   "metadata": {
    "colab": {},
    "colab_type": "code",
    "id": "HafN0b_8cEi3"
   },
   "outputs": [],
   "source": [
    "prediction = model.predict(x=[x_test1, x_test2])"
   ]
  },
  {
   "cell_type": "code",
   "execution_count": 103,
   "metadata": {
    "colab": {},
    "colab_type": "code",
    "id": "Nerpncd5cW_i"
   },
   "outputs": [],
   "source": [
    "prediction = (prediction>0.5).astype(np.int8)"
   ]
  },
  {
   "cell_type": "code",
   "execution_count": 104,
   "metadata": {
    "colab": {},
    "colab_type": "code",
    "id": "hHaU8J5oeZu6"
   },
   "outputs": [],
   "source": [
    "pred_dict = {idx: prediction[idx] for idx in range(len(prediction))}"
   ]
  },
  {
   "cell_type": "code",
   "execution_count": 105,
   "metadata": {
    "colab": {},
    "colab_type": "code",
    "id": "nA26ngI8ecw-"
   },
   "outputs": [],
   "source": [
    "submission = pd.DataFrame.from_dict(pred_dict,orient='index')\n",
    "submission.index.names = ['id']\n",
    "submission.columns = ['category']\n",
    "submission.to_pickle('result_'+str(fold_num)+'.pkl')"
   ]
  },
  {
   "cell_type": "code",
   "execution_count": 106,
   "metadata": {
    "colab": {},
    "colab_type": "code",
    "id": "UN35-0V5ejwD",
    "scrolled": true
   },
   "outputs": [],
   "source": [
    "e_prediction = model.predict(x=[x_eval1, x_eval2])\n",
    "e_prediction = (e_prediction>0.5).astype(np.int8)\n",
    "e_pred_dict = {idx: e_prediction[idx] for idx in range(len(e_prediction))}\n",
    "\n",
    "e_sub = pd.DataFrame.from_dict(e_pred_dict,orient='index')"
   ]
  },
  {
   "cell_type": "code",
   "execution_count": 107,
   "metadata": {},
   "outputs": [],
   "source": [
    "e_list = e_sub[0].values.tolist()"
   ]
  },
  {
   "cell_type": "code",
   "execution_count": 108,
   "metadata": {},
   "outputs": [
    {
     "data": {
      "text/plain": [
       "205171"
      ]
     },
     "execution_count": 108,
     "metadata": {},
     "output_type": "execute_result"
    }
   ],
   "source": [
    "len(e_list)"
   ]
  },
  {
   "cell_type": "code",
   "execution_count": 109,
   "metadata": {},
   "outputs": [],
   "source": [
    "stack = [-1]*len(data_set)\n",
    "c = 0\n",
    "for i in evaluate_all[fold_num-1]:\n",
    "    stack[i] = e_list[c]\n",
    "    c += 1"
   ]
  },
  {
   "cell_type": "code",
   "execution_count": 110,
   "metadata": {},
   "outputs": [
    {
     "data": {
      "text/plain": [
       "615512"
      ]
     },
     "execution_count": 110,
     "metadata": {},
     "output_type": "execute_result"
    }
   ],
   "source": [
    "len(stack)"
   ]
  },
  {
   "cell_type": "code",
   "execution_count": 111,
   "metadata": {},
   "outputs": [],
   "source": [
    "stack_1 = pd.DataFrame(np.array(stack))\n",
    "stack_1.to_pickle('stack_'+str(fold_num)+'.pkl')"
   ]
  },
  {
   "cell_type": "code",
   "execution_count": null,
   "metadata": {},
   "outputs": [],
   "source": []
  }
 ],
 "metadata": {
  "accelerator": "GPU",
  "colab": {
   "collapsed_sections": [],
   "name": "challenge.ipynb",
   "provenance": [],
   "version": "0.3.2"
  },
  "kernelspec": {
   "display_name": "Python 3",
   "language": "python",
   "name": "python3"
  },
  "language_info": {
   "codemirror_mode": {
    "name": "ipython",
    "version": 3
   },
   "file_extension": ".py",
   "mimetype": "text/x-python",
   "name": "python",
   "nbconvert_exporter": "python",
   "pygments_lexer": "ipython3",
   "version": "3.6.7"
  }
 },
 "nbformat": 4,
 "nbformat_minor": 1
}
